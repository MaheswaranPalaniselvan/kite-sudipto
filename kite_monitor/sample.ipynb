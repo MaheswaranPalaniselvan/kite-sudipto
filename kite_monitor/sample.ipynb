{
 "cells": [
  {
   "cell_type": "code",
   "execution_count": 13,
   "metadata": {},
   "outputs": [
    {
     "name": "stdout",
     "output_type": "stream",
     "text": [
      "{'BANKNIFTY': {'underlying': 'NSE:BANKNIFTY', 'ce': -100, 'pe': 100, 'diff': 100, 'expiry': '23OCT', 'lotsize': 45, 'stoploss': 20, 'multiplier': 1}, 'NIFTY': {'underlying': 'NSE:NIFTY 50', 'ce': -200, 'pe': 200, 'diff': 50, 'expiry': '23OCT', 'lotsize': 25, 'stoploss': 10, 'multiplier': 1}}\n"
     ]
    }
   ],
   "source": [
    "input_with_common = [{'common': {'multiplier': 1}}, {'BANKNIFTY': {'underlying': 'NSE:BANKNIFTY', 'ce': -100, 'pe': 100, 'diff': 100, 'expiry': '23OCT', 'lotsize': 45, 'stoploss': 20}}, {'NIFTY': {'underlying': 'NSE:NIFTY 50', 'ce': -200, 'pe': 200, 'diff': 50, 'expiry': '23OCT', 'lotsize': 25, 'stoploss': 10}}]\n",
    "\n",
    "\n",
    "\n",
    "\n",
    "result = merge_common_to_symbols(input_with_common)\n",
    "print(result)\n",
    "\n"
   ]
  },
  {
   "cell_type": "code",
   "execution_count": 8,
   "metadata": {},
   "outputs": [
    {
     "name": "stdout",
     "output_type": "stream",
     "text": [
      "BANKNIFTY\n",
      "{'underlying': 'NSE:BANKNIFTY', 'ce': -100, 'pe': 100, 'diff': 100, 'expiry': '23OCT', 'lotsize': 45, 'stoploss': 20}\n",
      "NIFTY\n",
      "{'underlying': 'NSE:NIFTY 50', 'ce': -200, 'pe': 200, 'diff': 50, 'expiry': '23OCT', 'lotsize': 25, 'stoploss': 10}\n"
     ]
    }
   ],
   "source": [
    "def merge_common_to_symbols(input_with_common: list[dict]):\n",
    "    common_items = {}\n",
    "    output_without_common = {}\n",
    "\n",
    "    for item in input_with_common:\n",
    "        if \"common\" in item:\n",
    "            common_items = item[\"common\"]\n",
    "        else:\n",
    "            merged_item = {key: value for key, value in item.items() if key != \"common\"}\n",
    "            merged_item.update(common_items)\n",
    "            output_without_common.update(merged_item)\n",
    "\n",
    "    return output_without_common\n",
    "\n",
    "input_with_common = [{'BANKNIFTY': {'underlying': 'NSE:BANKNIFTY', 'ce': -100, 'pe': 100, 'diff': 100, 'expiry': '23OCT', 'lotsize': 45, 'stoploss': 20}}, {'NIFTY': {'underlying': 'NSE:NIFTY 50', 'ce': -200, 'pe': 200, 'diff': 50, 'expiry': '23OCT', 'lotsize': 25, 'stoploss': 10}}, {'common': {'multiplier': 1}}]\n",
    "\n",
    "result = merge_common_to_symbols(input_with_common)\n",
    "\n",
    "# Print the result\n",
    "for key, value in result.items():\n",
    "    print(key)\n",
    "    print(value)\n"
   ]
  }
 ],
 "metadata": {
  "kernelspec": {
   "display_name": "Python 3",
   "language": "python",
   "name": "python3"
  },
  "language_info": {
   "codemirror_mode": {
    "name": "ipython",
    "version": 3
   },
   "file_extension": ".py",
   "mimetype": "text/x-python",
   "name": "python",
   "nbconvert_exporter": "python",
   "pygments_lexer": "ipython3",
   "version": "3.11.2"
  }
 },
 "nbformat": 4,
 "nbformat_minor": 2
}
